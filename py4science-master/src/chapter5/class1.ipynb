{
 "cells": [
  {
   "cell_type": "code",
   "execution_count": 1,
   "metadata": {},
   "outputs": [
    {
     "name": "stdout",
     "output_type": "stream",
     "text": [
      "(x, y) = (1, 1)\n",
      "(x, y) = (1, 2)\n",
      "(x, y) = (2, 3)\n"
     ]
    }
   ],
   "source": [
    "# クラスの定義\n",
    "class MyClass(object):  # (1)継承するクラスなし\n",
    "    \"\"\" (2)簡単なクラスの例のDocstring \"\"\"\n",
    "    # (3)クラスのデータx、yの定義\n",
    "    x = 0\n",
    "    y = 0\n",
    "\n",
    "    def my_print(self):\n",
    "        self.x += 1  # xをインスタンス固有のオブジェクトとして扱う\n",
    "        MyClass.y += 1  # yをクラス固有のオブジェクトとして扱う\n",
    "        print('(x, y) = ({}, {})'.format(self.x, self.y))\n",
    "\n",
    "\n",
    "# クラスのインスタンス化\n",
    "f = MyClass  # (5)()が付いてない場合はクラスに別名を付けただけ\n",
    "a = MyClass()  # (6)MyClassクラスのインスタンスを生成しaという名前を付ける\n",
    "b = f()  # (7)f()はMyClass()と同じ意味（別名を使っている。(5)参照）\n",
    "# (8)メソッドの実行\n",
    "a.my_print()\n",
    "b.my_print()\n",
    "b.my_print()\n"
   ]
  },
  {
   "cell_type": "code",
   "execution_count": null,
   "metadata": {},
   "outputs": [],
   "source": []
  }
 ],
 "metadata": {
  "kernelspec": {
   "display_name": "Python 3",
   "language": "python",
   "name": "python3"
  },
  "language_info": {
   "codemirror_mode": {
    "name": "ipython",
    "version": 3
   },
   "file_extension": ".py",
   "mimetype": "text/x-python",
   "name": "python",
   "nbconvert_exporter": "python",
   "pygments_lexer": "ipython3",
   "version": "3.5.6"
  }
 },
 "nbformat": 4,
 "nbformat_minor": 2
}
