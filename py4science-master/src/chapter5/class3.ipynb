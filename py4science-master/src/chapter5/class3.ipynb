{
 "cells": [
  {
   "cell_type": "code",
   "execution_count": 2,
   "metadata": {},
   "outputs": [
    {
     "name": "stdout",
     "output_type": "stream",
     "text": [
      "xx =  104\n",
      "price y = 1000\n",
      "price z = 1020\n",
      "メソッド shop 終了\n",
      "(a.i, b.i) = (20, 20)\n",
      "(a.i, b.i) = (2, 4)\n"
     ]
    }
   ],
   "source": [
    "# (1)グローバル名前空間にxを定義\n",
    "x = 100\n",
    "\n",
    "\n",
    "class MyClass:\n",
    "    # (2)このクラスのデータとしてiとxを定義\n",
    "    i = 10  # メソッドprice()の中で参照される\n",
    "    x += 2  # グローバル名前空間のxに２を加えてデータxを定義\n",
    "    xx = x + 2  # (3)MyClassの中のデータのxを参照\n",
    "    print('xx = ', xx)\n",
    "\n",
    "    def price(self):\n",
    "        y = self.i * x  # (4)グローバル名前空間のオブジェクトxを参照\n",
    "        z = self.i * self.x  # (5)インスタンス属性→クラス属性の順に検索して参照\n",
    "        # z = i * x  # (6)これはエラー（ここからデータiは見えない）\n",
    "        print(\"price y = %d\" % y)\n",
    "        print(\"price z = %d\" % z)\n",
    "\n",
    "    def shop(self):\n",
    "        # price()  # (7)エラーとなる（NameError）\n",
    "        self.price()  # (8)これはOK\n",
    "        # MyClass.price(self) # (9)これでもOK\n",
    "        MyClass.i = 20  # (10)クラスのデータを変更\n",
    "        print(\"メソッド shop 終了\")\n",
    "\n",
    "\n",
    "# (11)動作確認のための実行コード\n",
    "if __name__ == '__main__':\n",
    "    a = MyClass()\n",
    "    b = MyClass()\n",
    "    a.shop()  # この中で MyClass.i = 20 が実行される\n",
    "    print('(a.i, b.i) = ({}, {})'.format(a.i, b.i))\n",
    "    a.i = 2  # インスタンス属性を設定\n",
    "    MyClass.i = 4  # クラス属性の値を変更\n",
    "    print('(a.i, b.i) = ({}, {})'.format(a.i, b.i))\n"
   ]
  },
  {
   "cell_type": "code",
   "execution_count": null,
   "metadata": {},
   "outputs": [],
   "source": []
  }
 ],
 "metadata": {
  "kernelspec": {
   "display_name": "Python 3",
   "language": "python",
   "name": "python3"
  },
  "language_info": {
   "codemirror_mode": {
    "name": "ipython",
    "version": 3
   },
   "file_extension": ".py",
   "mimetype": "text/x-python",
   "name": "python",
   "nbconvert_exporter": "python",
   "pygments_lexer": "ipython3",
   "version": "3.5.6"
  }
 },
 "nbformat": 4,
 "nbformat_minor": 2
}
