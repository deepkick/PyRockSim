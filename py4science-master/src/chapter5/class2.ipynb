{
 "cells": [
  {
   "cell_type": "code",
   "execution_count": 1,
   "metadata": {},
   "outputs": [
    {
     "name": "stdout",
     "output_type": "stream",
     "text": [
      "2016年のオリンピック開催地はリオデジャネイロ\n",
      "2020年のオリンピック開催地は東京\n"
     ]
    }
   ],
   "source": [
    "# クラスの定義\n",
    "class MyClass(object):  # 継承するクラス無し\n",
    "    \"\"\" 簡単なクラスの例のDocstring \"\"\"\n",
    "\n",
    "    def __init__(self, x, y):\n",
    "        self.x = x\n",
    "        self.y = y\n",
    "        \n",
    "    def my_print(self):\n",
    "        print('{}年のオリンピック開催地は{}'.format(self.x, self.y))\n",
    "\n",
    "# クラスのインスタンス化\n",
    "a = MyClass(2016, 'リオデジャネイロ')\n",
    "b = MyClass(2020, '東京')\n",
    "# メソッドの実行\n",
    "a.my_print()\n",
    "b.my_print()\n"
   ]
  },
  {
   "cell_type": "code",
   "execution_count": null,
   "metadata": {},
   "outputs": [],
   "source": []
  }
 ],
 "metadata": {
  "kernelspec": {
   "display_name": "Python 3",
   "language": "python",
   "name": "python3"
  },
  "language_info": {
   "codemirror_mode": {
    "name": "ipython",
    "version": 3
   },
   "file_extension": ".py",
   "mimetype": "text/x-python",
   "name": "python",
   "nbconvert_exporter": "python",
   "pygments_lexer": "ipython3",
   "version": "3.5.6"
  }
 },
 "nbformat": 4,
 "nbformat_minor": 2
}
